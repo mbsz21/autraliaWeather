{
 "cells": [
  {
   "cell_type": "code",
   "execution_count": 1,
   "id": "f550bdf7-d91b-4639-a3d0-1d8f158a810e",
   "metadata": {},
   "outputs": [],
   "source": [
    "# ======================== Les actions =================================================================\n",
    "# Drop 2007 et 2008\n",
    "# Drop Temp9am car c'est la même donnée que TempMin et Temp3pm qui est le même que TempMax\n",
    "# Drop Uluru et Alice Springs car trop de nan\n",
    "# Pour les nan restants on a récupéré les villes \"radar\" du point de vue météo, et on recopie les données manquantes des villes par rapport aux villes radar (à priori il y fait le même temps)\n",
    "# Transformer la date en jour mois année\n",
    "# Ajouter la notion de ville radar pour compléter les données manquantes dans un DF\n",
    "# Faire un DF pour chaque ville / année et y stocker les moyennes des variables afin de remplir les derniers nan par ces valeurs\n",
    "# Cloud9am et Cloud3pm liés sur les informations manquantes ==> je propose de dropper Cloud9am\n",
    "# WindGustDir vent dominant on garde cela et on enlève WindDir9am WindDir3pm\n",
    "# Idem pour WindGustSpeed\n",
    "# ======================================================================================================\n",
    "# 49 villes mais certaines ont très peu de données. Adelaide n'a aucune Sunshine\n"
   ]
  },
  {
   "cell_type": "code",
   "execution_count": 22,
   "id": "c8e110e8-6207-48f1-a9b0-328a3e4b4f1d",
   "metadata": {},
   "outputs": [],
   "source": [
    "import missingno as msno\n",
    "import numpy as np\n",
    "import pandas as pd\n",
    "import matplotlib\n",
    "import matplotlib.pyplot as plt\n",
    "%matplotlib inline"
   ]
  },
  {
   "cell_type": "code",
   "execution_count": 76,
   "id": "b64a9ad7-a825-496c-9107-a81d2e7b6d0b",
   "metadata": {},
   "outputs": [
    {
     "data": {
      "text/html": [
       "<div>\n",
       "<style scoped>\n",
       "    .dataframe tbody tr th:only-of-type {\n",
       "        vertical-align: middle;\n",
       "    }\n",
       "\n",
       "    .dataframe tbody tr th {\n",
       "        vertical-align: top;\n",
       "    }\n",
       "\n",
       "    .dataframe thead th {\n",
       "        text-align: right;\n",
       "    }\n",
       "</style>\n",
       "<table border=\"1\" class=\"dataframe\">\n",
       "  <thead>\n",
       "    <tr style=\"text-align: right;\">\n",
       "      <th></th>\n",
       "      <th>Date</th>\n",
       "      <th>Location</th>\n",
       "      <th>MinTemp</th>\n",
       "      <th>MaxTemp</th>\n",
       "      <th>Rainfall</th>\n",
       "      <th>Evaporation</th>\n",
       "      <th>Sunshine</th>\n",
       "      <th>WindGustDir</th>\n",
       "      <th>WindGustSpeed</th>\n",
       "      <th>WindDir9am</th>\n",
       "      <th>...</th>\n",
       "      <th>Humidity9am</th>\n",
       "      <th>Humidity3pm</th>\n",
       "      <th>Pressure9am</th>\n",
       "      <th>Pressure3pm</th>\n",
       "      <th>Cloud9am</th>\n",
       "      <th>Cloud3pm</th>\n",
       "      <th>Temp9am</th>\n",
       "      <th>Temp3pm</th>\n",
       "      <th>RainToday</th>\n",
       "      <th>RainTomorrow</th>\n",
       "    </tr>\n",
       "  </thead>\n",
       "  <tbody>\n",
       "    <tr>\n",
       "      <th>0</th>\n",
       "      <td>2008-12-01</td>\n",
       "      <td>Albury</td>\n",
       "      <td>13.4</td>\n",
       "      <td>22.9</td>\n",
       "      <td>0.6</td>\n",
       "      <td>NaN</td>\n",
       "      <td>NaN</td>\n",
       "      <td>W</td>\n",
       "      <td>44.0</td>\n",
       "      <td>W</td>\n",
       "      <td>...</td>\n",
       "      <td>71.0</td>\n",
       "      <td>22.0</td>\n",
       "      <td>1007.7</td>\n",
       "      <td>1007.1</td>\n",
       "      <td>8.0</td>\n",
       "      <td>NaN</td>\n",
       "      <td>16.9</td>\n",
       "      <td>21.8</td>\n",
       "      <td>No</td>\n",
       "      <td>No</td>\n",
       "    </tr>\n",
       "    <tr>\n",
       "      <th>1</th>\n",
       "      <td>2008-12-02</td>\n",
       "      <td>Albury</td>\n",
       "      <td>7.4</td>\n",
       "      <td>25.1</td>\n",
       "      <td>0.0</td>\n",
       "      <td>NaN</td>\n",
       "      <td>NaN</td>\n",
       "      <td>WNW</td>\n",
       "      <td>44.0</td>\n",
       "      <td>NNW</td>\n",
       "      <td>...</td>\n",
       "      <td>44.0</td>\n",
       "      <td>25.0</td>\n",
       "      <td>1010.6</td>\n",
       "      <td>1007.8</td>\n",
       "      <td>NaN</td>\n",
       "      <td>NaN</td>\n",
       "      <td>17.2</td>\n",
       "      <td>24.3</td>\n",
       "      <td>No</td>\n",
       "      <td>No</td>\n",
       "    </tr>\n",
       "    <tr>\n",
       "      <th>2</th>\n",
       "      <td>2008-12-03</td>\n",
       "      <td>Albury</td>\n",
       "      <td>12.9</td>\n",
       "      <td>25.7</td>\n",
       "      <td>0.0</td>\n",
       "      <td>NaN</td>\n",
       "      <td>NaN</td>\n",
       "      <td>WSW</td>\n",
       "      <td>46.0</td>\n",
       "      <td>W</td>\n",
       "      <td>...</td>\n",
       "      <td>38.0</td>\n",
       "      <td>30.0</td>\n",
       "      <td>1007.6</td>\n",
       "      <td>1008.7</td>\n",
       "      <td>NaN</td>\n",
       "      <td>2.0</td>\n",
       "      <td>21.0</td>\n",
       "      <td>23.2</td>\n",
       "      <td>No</td>\n",
       "      <td>No</td>\n",
       "    </tr>\n",
       "    <tr>\n",
       "      <th>3</th>\n",
       "      <td>2008-12-04</td>\n",
       "      <td>Albury</td>\n",
       "      <td>9.2</td>\n",
       "      <td>28.0</td>\n",
       "      <td>0.0</td>\n",
       "      <td>NaN</td>\n",
       "      <td>NaN</td>\n",
       "      <td>NE</td>\n",
       "      <td>24.0</td>\n",
       "      <td>SE</td>\n",
       "      <td>...</td>\n",
       "      <td>45.0</td>\n",
       "      <td>16.0</td>\n",
       "      <td>1017.6</td>\n",
       "      <td>1012.8</td>\n",
       "      <td>NaN</td>\n",
       "      <td>NaN</td>\n",
       "      <td>18.1</td>\n",
       "      <td>26.5</td>\n",
       "      <td>No</td>\n",
       "      <td>No</td>\n",
       "    </tr>\n",
       "    <tr>\n",
       "      <th>4</th>\n",
       "      <td>2008-12-05</td>\n",
       "      <td>Albury</td>\n",
       "      <td>17.5</td>\n",
       "      <td>32.3</td>\n",
       "      <td>1.0</td>\n",
       "      <td>NaN</td>\n",
       "      <td>NaN</td>\n",
       "      <td>W</td>\n",
       "      <td>41.0</td>\n",
       "      <td>ENE</td>\n",
       "      <td>...</td>\n",
       "      <td>82.0</td>\n",
       "      <td>33.0</td>\n",
       "      <td>1010.8</td>\n",
       "      <td>1006.0</td>\n",
       "      <td>7.0</td>\n",
       "      <td>8.0</td>\n",
       "      <td>17.8</td>\n",
       "      <td>29.7</td>\n",
       "      <td>No</td>\n",
       "      <td>No</td>\n",
       "    </tr>\n",
       "  </tbody>\n",
       "</table>\n",
       "<p>5 rows × 23 columns</p>\n",
       "</div>"
      ],
      "text/plain": [
       "         Date Location  MinTemp  MaxTemp  Rainfall  Evaporation  Sunshine  \\\n",
       "0  2008-12-01   Albury     13.4     22.9       0.6          NaN       NaN   \n",
       "1  2008-12-02   Albury      7.4     25.1       0.0          NaN       NaN   \n",
       "2  2008-12-03   Albury     12.9     25.7       0.0          NaN       NaN   \n",
       "3  2008-12-04   Albury      9.2     28.0       0.0          NaN       NaN   \n",
       "4  2008-12-05   Albury     17.5     32.3       1.0          NaN       NaN   \n",
       "\n",
       "  WindGustDir  WindGustSpeed WindDir9am  ... Humidity9am  Humidity3pm  \\\n",
       "0           W           44.0          W  ...        71.0         22.0   \n",
       "1         WNW           44.0        NNW  ...        44.0         25.0   \n",
       "2         WSW           46.0          W  ...        38.0         30.0   \n",
       "3          NE           24.0         SE  ...        45.0         16.0   \n",
       "4           W           41.0        ENE  ...        82.0         33.0   \n",
       "\n",
       "   Pressure9am  Pressure3pm  Cloud9am  Cloud3pm  Temp9am  Temp3pm  RainToday  \\\n",
       "0       1007.7       1007.1       8.0       NaN     16.9     21.8         No   \n",
       "1       1010.6       1007.8       NaN       NaN     17.2     24.3         No   \n",
       "2       1007.6       1008.7       NaN       2.0     21.0     23.2         No   \n",
       "3       1017.6       1012.8       NaN       NaN     18.1     26.5         No   \n",
       "4       1010.8       1006.0       7.0       8.0     17.8     29.7         No   \n",
       "\n",
       "   RainTomorrow  \n",
       "0            No  \n",
       "1            No  \n",
       "2            No  \n",
       "3            No  \n",
       "4            No  \n",
       "\n",
       "[5 rows x 23 columns]"
      ]
     },
     "execution_count": 76,
     "metadata": {},
     "output_type": "execute_result"
    }
   ],
   "source": [
    "#===== Importation du fichier d'origine, je l'appelle full_data\n",
    "full_data = pd.read_csv('weatherAUS.csv')\n",
    "full_data.head()"
   ]
  },
  {
   "cell_type": "code",
   "execution_count": 24,
   "id": "9e9f100d-9aa0-4797-9166-982c904e14e6",
   "metadata": {},
   "outputs": [
    {
     "data": {
      "text/plain": [
       "0"
      ]
     },
     "execution_count": 24,
     "metadata": {},
     "output_type": "execute_result"
    }
   ],
   "source": [
    "full_data.duplicated().sum()"
   ]
  },
  {
   "cell_type": "code",
   "execution_count": 77,
   "id": "5fbde525-35c7-48d1-9e1d-49eb81dcf693",
   "metadata": {
    "tags": []
   },
   "outputs": [],
   "source": [
    "#Je récupère les données radar\n",
    "villesref=pd.read_csv(\"VilleRef.csv\",sep=\";\")"
   ]
  },
  {
   "cell_type": "code",
   "execution_count": 8,
   "id": "3414e426-80a7-4baa-b9f6-0236a1d3ae35",
   "metadata": {
    "collapsed": true,
    "jupyter": {
     "outputs_hidden": true
    },
    "tags": []
   },
   "outputs": [
    {
     "data": {
      "text/html": [
       "<div>\n",
       "<style scoped>\n",
       "    .dataframe tbody tr th:only-of-type {\n",
       "        vertical-align: middle;\n",
       "    }\n",
       "\n",
       "    .dataframe tbody tr th {\n",
       "        vertical-align: top;\n",
       "    }\n",
       "\n",
       "    .dataframe thead th {\n",
       "        text-align: right;\n",
       "    }\n",
       "</style>\n",
       "<table border=\"1\" class=\"dataframe\">\n",
       "  <thead>\n",
       "    <tr style=\"text-align: right;\">\n",
       "      <th></th>\n",
       "      <th>Ville</th>\n",
       "      <th>Radar</th>\n",
       "    </tr>\n",
       "  </thead>\n",
       "  <tbody>\n",
       "    <tr>\n",
       "      <th>0</th>\n",
       "      <td>Adelaide</td>\n",
       "      <td>Nuriootpa</td>\n",
       "    </tr>\n",
       "    <tr>\n",
       "      <th>1</th>\n",
       "      <td>Albany</td>\n",
       "      <td>Perth</td>\n",
       "    </tr>\n",
       "    <tr>\n",
       "      <th>2</th>\n",
       "      <td>Albury</td>\n",
       "      <td>SydneyAirport</td>\n",
       "    </tr>\n",
       "    <tr>\n",
       "      <th>3</th>\n",
       "      <td>AliceSprings</td>\n",
       "      <td>Darwin</td>\n",
       "    </tr>\n",
       "    <tr>\n",
       "      <th>4</th>\n",
       "      <td>BadgerysCreek</td>\n",
       "      <td>SydneyAirport</td>\n",
       "    </tr>\n",
       "    <tr>\n",
       "      <th>5</th>\n",
       "      <td>Ballarat</td>\n",
       "      <td>MelbourneAirport</td>\n",
       "    </tr>\n",
       "    <tr>\n",
       "      <th>6</th>\n",
       "      <td>Bendigo</td>\n",
       "      <td>MelbourneAirport</td>\n",
       "    </tr>\n",
       "    <tr>\n",
       "      <th>7</th>\n",
       "      <td>Brisbane</td>\n",
       "      <td>isole</td>\n",
       "    </tr>\n",
       "    <tr>\n",
       "      <th>8</th>\n",
       "      <td>Cairns</td>\n",
       "      <td>isole</td>\n",
       "    </tr>\n",
       "    <tr>\n",
       "      <th>9</th>\n",
       "      <td>Canberra</td>\n",
       "      <td>SydneyAirport</td>\n",
       "    </tr>\n",
       "    <tr>\n",
       "      <th>10</th>\n",
       "      <td>Cobar</td>\n",
       "      <td>SydneyAirport</td>\n",
       "    </tr>\n",
       "    <tr>\n",
       "      <th>11</th>\n",
       "      <td>CoffsHarbour</td>\n",
       "      <td>Brisbane</td>\n",
       "    </tr>\n",
       "    <tr>\n",
       "      <th>12</th>\n",
       "      <td>Dartmoor</td>\n",
       "      <td>MountGambier</td>\n",
       "    </tr>\n",
       "    <tr>\n",
       "      <th>13</th>\n",
       "      <td>Darwin</td>\n",
       "      <td>isole</td>\n",
       "    </tr>\n",
       "    <tr>\n",
       "      <th>14</th>\n",
       "      <td>GoldCoast</td>\n",
       "      <td>Brisbane</td>\n",
       "    </tr>\n",
       "    <tr>\n",
       "      <th>15</th>\n",
       "      <td>Hobart</td>\n",
       "      <td>isole</td>\n",
       "    </tr>\n",
       "    <tr>\n",
       "      <th>16</th>\n",
       "      <td>Katherine</td>\n",
       "      <td>isole</td>\n",
       "    </tr>\n",
       "    <tr>\n",
       "      <th>17</th>\n",
       "      <td>Launceston</td>\n",
       "      <td>isole</td>\n",
       "    </tr>\n",
       "    <tr>\n",
       "      <th>18</th>\n",
       "      <td>Melbourne</td>\n",
       "      <td>MelbourneAirport</td>\n",
       "    </tr>\n",
       "    <tr>\n",
       "      <th>19</th>\n",
       "      <td>MelbourneAirport</td>\n",
       "      <td>isole</td>\n",
       "    </tr>\n",
       "    <tr>\n",
       "      <th>20</th>\n",
       "      <td>Mildura</td>\n",
       "      <td>isole</td>\n",
       "    </tr>\n",
       "    <tr>\n",
       "      <th>21</th>\n",
       "      <td>Moree</td>\n",
       "      <td>SydneyAirport</td>\n",
       "    </tr>\n",
       "    <tr>\n",
       "      <th>22</th>\n",
       "      <td>MountGambier</td>\n",
       "      <td>Dartmoor</td>\n",
       "    </tr>\n",
       "    <tr>\n",
       "      <th>23</th>\n",
       "      <td>MountGinini</td>\n",
       "      <td>SydneyAirport</td>\n",
       "    </tr>\n",
       "    <tr>\n",
       "      <th>24</th>\n",
       "      <td>Newcastle</td>\n",
       "      <td>SydneyAirport</td>\n",
       "    </tr>\n",
       "    <tr>\n",
       "      <th>25</th>\n",
       "      <td>Nhil</td>\n",
       "      <td>MelbourneAirport</td>\n",
       "    </tr>\n",
       "    <tr>\n",
       "      <th>26</th>\n",
       "      <td>NorahHead</td>\n",
       "      <td>SydneyAirport</td>\n",
       "    </tr>\n",
       "    <tr>\n",
       "      <th>27</th>\n",
       "      <td>NorfolkIsland</td>\n",
       "      <td>Hobart</td>\n",
       "    </tr>\n",
       "    <tr>\n",
       "      <th>28</th>\n",
       "      <td>Nuriootpa</td>\n",
       "      <td>isole</td>\n",
       "    </tr>\n",
       "    <tr>\n",
       "      <th>29</th>\n",
       "      <td>PearceRAAF</td>\n",
       "      <td>Perth</td>\n",
       "    </tr>\n",
       "    <tr>\n",
       "      <th>30</th>\n",
       "      <td>Penrith</td>\n",
       "      <td>SydneyAirport</td>\n",
       "    </tr>\n",
       "    <tr>\n",
       "      <th>31</th>\n",
       "      <td>Perth</td>\n",
       "      <td>isole</td>\n",
       "    </tr>\n",
       "    <tr>\n",
       "      <th>32</th>\n",
       "      <td>PerthAirport</td>\n",
       "      <td>isole</td>\n",
       "    </tr>\n",
       "    <tr>\n",
       "      <th>33</th>\n",
       "      <td>Portland</td>\n",
       "      <td>MelbourneAirport</td>\n",
       "    </tr>\n",
       "    <tr>\n",
       "      <th>34</th>\n",
       "      <td>Richmond</td>\n",
       "      <td>SydneyAirport</td>\n",
       "    </tr>\n",
       "    <tr>\n",
       "      <th>35</th>\n",
       "      <td>Sale</td>\n",
       "      <td>MelbourneAirport</td>\n",
       "    </tr>\n",
       "    <tr>\n",
       "      <th>36</th>\n",
       "      <td>SalmonGums</td>\n",
       "      <td>Perth</td>\n",
       "    </tr>\n",
       "    <tr>\n",
       "      <th>37</th>\n",
       "      <td>Sydney</td>\n",
       "      <td>SydneyAirport</td>\n",
       "    </tr>\n",
       "    <tr>\n",
       "      <th>38</th>\n",
       "      <td>SydneyAirport</td>\n",
       "      <td>isole</td>\n",
       "    </tr>\n",
       "    <tr>\n",
       "      <th>39</th>\n",
       "      <td>Townsville</td>\n",
       "      <td>isole</td>\n",
       "    </tr>\n",
       "    <tr>\n",
       "      <th>40</th>\n",
       "      <td>Tuggeranong</td>\n",
       "      <td>SydneyAirport</td>\n",
       "    </tr>\n",
       "    <tr>\n",
       "      <th>41</th>\n",
       "      <td>Uluru</td>\n",
       "      <td>Darwin</td>\n",
       "    </tr>\n",
       "    <tr>\n",
       "      <th>42</th>\n",
       "      <td>WaggaWagga</td>\n",
       "      <td>SydneyAirport</td>\n",
       "    </tr>\n",
       "    <tr>\n",
       "      <th>43</th>\n",
       "      <td>Walpole</td>\n",
       "      <td>Perth</td>\n",
       "    </tr>\n",
       "    <tr>\n",
       "      <th>44</th>\n",
       "      <td>Watsonia</td>\n",
       "      <td>isole</td>\n",
       "    </tr>\n",
       "    <tr>\n",
       "      <th>45</th>\n",
       "      <td>Williamtown</td>\n",
       "      <td>SydneyAirport</td>\n",
       "    </tr>\n",
       "    <tr>\n",
       "      <th>46</th>\n",
       "      <td>Witchcliffe</td>\n",
       "      <td>Perth</td>\n",
       "    </tr>\n",
       "    <tr>\n",
       "      <th>47</th>\n",
       "      <td>Wollongong</td>\n",
       "      <td>SydneyAirport</td>\n",
       "    </tr>\n",
       "    <tr>\n",
       "      <th>48</th>\n",
       "      <td>Woomera</td>\n",
       "      <td>Dartmoor</td>\n",
       "    </tr>\n",
       "  </tbody>\n",
       "</table>\n",
       "</div>"
      ],
      "text/plain": [
       "               Ville             Radar\n",
       "0           Adelaide         Nuriootpa\n",
       "1             Albany             Perth\n",
       "2             Albury     SydneyAirport\n",
       "3       AliceSprings            Darwin\n",
       "4      BadgerysCreek     SydneyAirport\n",
       "5           Ballarat  MelbourneAirport\n",
       "6            Bendigo  MelbourneAirport\n",
       "7           Brisbane             isole\n",
       "8             Cairns             isole\n",
       "9           Canberra     SydneyAirport\n",
       "10             Cobar     SydneyAirport\n",
       "11      CoffsHarbour          Brisbane\n",
       "12          Dartmoor      MountGambier\n",
       "13            Darwin             isole\n",
       "14         GoldCoast          Brisbane\n",
       "15            Hobart             isole\n",
       "16         Katherine             isole\n",
       "17        Launceston             isole\n",
       "18         Melbourne  MelbourneAirport\n",
       "19  MelbourneAirport             isole\n",
       "20           Mildura             isole\n",
       "21             Moree     SydneyAirport\n",
       "22      MountGambier          Dartmoor\n",
       "23       MountGinini     SydneyAirport\n",
       "24         Newcastle     SydneyAirport\n",
       "25              Nhil  MelbourneAirport\n",
       "26         NorahHead     SydneyAirport\n",
       "27     NorfolkIsland            Hobart\n",
       "28         Nuriootpa             isole\n",
       "29        PearceRAAF             Perth\n",
       "30           Penrith     SydneyAirport\n",
       "31             Perth             isole\n",
       "32      PerthAirport             isole\n",
       "33          Portland  MelbourneAirport\n",
       "34          Richmond     SydneyAirport\n",
       "35              Sale  MelbourneAirport\n",
       "36        SalmonGums             Perth\n",
       "37            Sydney     SydneyAirport\n",
       "38     SydneyAirport             isole\n",
       "39        Townsville             isole\n",
       "40       Tuggeranong     SydneyAirport\n",
       "41             Uluru            Darwin\n",
       "42        WaggaWagga     SydneyAirport\n",
       "43           Walpole             Perth\n",
       "44          Watsonia             isole\n",
       "45       Williamtown     SydneyAirport\n",
       "46       Witchcliffe             Perth\n",
       "47        Wollongong     SydneyAirport\n",
       "48           Woomera          Dartmoor"
      ]
     },
     "execution_count": 8,
     "metadata": {},
     "output_type": "execute_result"
    }
   ],
   "source": [
    "villesref"
   ]
  },
  {
   "cell_type": "code",
   "execution_count": 78,
   "id": "06e31000-9f5e-40f0-a02c-751c4de44c7a",
   "metadata": {
    "tags": []
   },
   "outputs": [],
   "source": [
    "dict_villes={}\n",
    "for idx_ville,ligne in villesref.iterrows():\n",
    "    dict_villes[ligne['Ville']] = ligne['Radar']\n",
    "#dict_villes"
   ]
  },
  {
   "cell_type": "code",
   "execution_count": 125,
   "id": "f6b96369-8102-45d9-9c07-b36f73a8e98d",
   "metadata": {},
   "outputs": [],
   "source": [
    "def get_radar(df_1, villesref):\n",
    "    \n",
    "    ''' this function read two dataframe:\n",
    "        1)  df_1 contain a column called Location\n",
    "        2)  df_2 contain a column called Ville\n",
    "        if the location are equals to the villes, \n",
    "        this function extract from the dictionary\n",
    "        called dict_villes the radar element and put it \n",
    "        into a list radar.\n",
    "        Eventually, the list is added as column at \n",
    "        df_1\n",
    "        IMPORTANT before to use this function you shoul to\n",
    "        import the villesref DataFrame as follow:\n",
    "        villesref=pd.read_csv(\"VilleRef2.csv\",sep=\";\")        \n",
    "    '''\n",
    "\n",
    "    dict_villes={}\n",
    "    for idx_ville,ligne in villesref.iterrows():\n",
    "        dict_villes[ligne['Ville']] = ligne['Radar']\n",
    "    \n",
    "    radar = []\n",
    "    for city_1 in df_1.Location:\n",
    "        for city_2 in villesref.Ville:\n",
    "            if city_1 == city_2:\n",
    "                radar.append(dict_villes.get(city_2))\n",
    "                \n",
    "    df_1['Radar'] = radar\n",
    "\n",
    "#Exemple appel get_radar(df,villesref)\n"
   ]
  },
  {
   "cell_type": "code",
   "execution_count": 79,
   "id": "f12b496d-42e8-4992-8c9e-c78dc5d3843f",
   "metadata": {},
   "outputs": [],
   "source": [
    "# Je transforme la date en jour mois année car j'en ai besoin mais ce  traitement sera fait par Bernadino car il a besoin aussi de ces informations pour faire les graphes\n",
    "full_data['Date'] = pd.to_datetime(full_data['Date'])\n",
    "full_data['year'] = full_data['Date'].dt.year\n",
    "full_data['month'] = full_data['Date'].dt.month\n",
    "full_data['day'] = full_data['Date'].dt.day"
   ]
  },
  {
   "cell_type": "code",
   "execution_count": 80,
   "id": "09476358-79a6-4f4b-9716-f706f2309e69",
   "metadata": {},
   "outputs": [],
   "source": [
    "#Je droppe les villes où il y a trop peu de données\n",
    "full_data.drop(full_data[full_data['Location'] == 'Katherine'].index, inplace = True, axis=0)\n",
    "full_data.drop(full_data[full_data['Location'] == 'Launceston'].index, inplace = True, axis=0)"
   ]
  },
  {
   "cell_type": "code",
   "execution_count": 81,
   "id": "5b4a333e-29e2-4b8a-897d-4c6cab4fe92e",
   "metadata": {},
   "outputs": [],
   "source": [
    "#2007 et 2008 sont quasi vides on supprime\n",
    "full_data.drop(full_data[full_data['year'] == 2007].index, inplace = True, axis=0)\n",
    "full_data.drop(full_data[full_data['year'] == 2008].index, inplace = True, axis=0)"
   ]
  },
  {
   "cell_type": "code",
   "execution_count": 82,
   "id": "4b9ab34c-e46a-4eb0-918a-bb04afc6fce9",
   "metadata": {},
   "outputs": [],
   "source": [
    "full_data = full_data.dropna(subset=['RainToday'],axis=0)\n",
    "full_data = full_data.dropna(subset=['RainTomorrow'],axis=0)"
   ]
  },
  {
   "cell_type": "code",
   "execution_count": 83,
   "id": "726ee233-ca3c-4df9-9d0a-36773d329d54",
   "metadata": {},
   "outputs": [
    {
     "data": {
      "text/plain": [
       "(133963, 26)"
      ]
     },
     "execution_count": 83,
     "metadata": {},
     "output_type": "execute_result"
    }
   ],
   "source": [
    "full_data.shape"
   ]
  },
  {
   "cell_type": "code",
   "execution_count": 84,
   "id": "300ae539-7b65-4ad9-b3fb-72eece0116e9",
   "metadata": {},
   "outputs": [],
   "source": [
    "TAILLE=full_data.shape[0]"
   ]
  },
  {
   "cell_type": "code",
   "execution_count": 85,
   "id": "007a11cf-5b97-4e35-b5e3-edea31fb8aaa",
   "metadata": {},
   "outputs": [],
   "source": [
    "full_data=full_data.drop('Temp9am',axis=1)\n",
    "full_data=full_data.drop('Temp3pm',axis=1)\n",
    "full_data=full_data.drop('WindDir9am',axis=1)\n",
    "full_data=full_data.drop('WindDir3pm',axis=1)\n",
    "full_data=full_data.drop('WindSpeed9am',axis=1)\n",
    "full_data=full_data.drop('WindSpeed3pm',axis=1)\n",
    "full_data=full_data.drop('Cloud9am',axis=1)\n",
    "full_data=full_data.drop('Cloud3pm',axis=1)"
   ]
  },
  {
   "cell_type": "code",
   "execution_count": 33,
   "id": "f6af152e-b797-4f37-a592-6241287c47db",
   "metadata": {
    "collapsed": true,
    "jupyter": {
     "outputs_hidden": true
    },
    "tags": []
   },
   "outputs": [
    {
     "name": "stdout",
     "output_type": "stream",
     "text": [
      "Albury   14.9\n",
      "BadgerysCreek   19.0\n",
      "Cobar   17.0\n",
      "CoffsHarbour   25.0\n",
      "Moree   33.7\n",
      "Newcastle   20.0\n",
      "NorahHead   23.9\n",
      "NorfolkIsland   20.3\n",
      "Penrith   20.0\n",
      "Richmond   19.8\n",
      "Sydney   22.9\n",
      "SydneyAirport   21.7\n",
      "WaggaWagga   14.6\n",
      "Williamtown   19.8\n",
      "Wollongong   19.3\n",
      "Canberra   15.2\n",
      "Tuggeranong   16.0\n",
      "MountGinini   13.0\n",
      "Ballarat   12.4\n",
      "Bendigo   14.1\n",
      "Sale   14.8\n",
      "MelbourneAirport   15.0\n",
      "Melbourne   16.1\n",
      "Mildura   17.9\n",
      "Nhil   14.9\n",
      "Portland   14.8\n",
      "Watsonia   14.6\n",
      "Dartmoor   14.4\n",
      "Brisbane   28.4\n",
      "Cairns   31.0\n",
      "GoldCoast   28.4\n",
      "Townsville   29.1\n",
      "Adelaide   16.2\n",
      "MountGambier   14.6\n",
      "Nuriootpa   14.5\n",
      "Woomera   18.0\n",
      "Albany   19.0\n",
      "Witchcliffe   18.9\n",
      "PearceRAAF   19.5\n",
      "PerthAirport   20.2\n",
      "Perth   19.8\n",
      "SalmonGums   18.9\n",
      "Walpole   20.3\n",
      "Hobart   14.8\n",
      "AliceSprings   23.2\n",
      "Darwin   33.3\n",
      "Uluru   39.1\n"
     ]
    }
   ],
   "source": [
    "villes=full_data['Location'].unique()\n",
    "for ville in villes:\n",
    "    print (ville,\" \", full_data[full_data['Location']==ville]['MaxTemp'].mode()[0])"
   ]
  },
  {
   "cell_type": "code",
   "execution_count": 1002,
   "id": "aa9085f3-e46e-4c28-9c1f-b680f60b88ae",
   "metadata": {},
   "outputs": [],
   "source": [
    "# ======================================================================= Les fonctions utiles"
   ]
  },
  {
   "cell_type": "code",
   "execution_count": 86,
   "id": "47ee16f8-f2e0-4190-958e-653b67dc0ae7",
   "metadata": {},
   "outputs": [],
   "source": [
    "#Fonction qui cherche le mode d'une variable car données insuffisantes pour la ville et pas de données non plus dans la ville radar\n",
    "def FindValByMode(ville,variable,year,month):\n",
    "    cond=((full_data['Location']==ville) & (full_data['year']==year) & (full_data['month']==month))\n",
    "    x=full_data[cond][variable].index\n",
    "    if (x.empty):\n",
    "        return np.nan\n",
    "    else:\n",
    "        y=full_data[cond][variable].mode()\n",
    "        if (y.empty):\n",
    "            return np.nan\n",
    "        else:\n",
    "            return full_data[cond][variable].mode()[0]"
   ]
  },
  {
   "cell_type": "code",
   "execution_count": 87,
   "id": "a692ec63-563a-495f-b9a8-91e0750a4d63",
   "metadata": {},
   "outputs": [],
   "source": [
    "# Fonction utilisée à la fin pour mettre à jour les derniers nan par le tableau  des moyennes\n",
    "def MajVariableParTblMoy(tblval,variable):\n",
    "    for indx,ville in tblval.iterrows():\n",
    "        cond=((tbl_moy['Location']==ville['Location']) & (tbl_moy['year']==ville['year']) & (tbl_moy['month']==ville['month']))\n",
    "        val_moyenne=tbl_moy[cond][variable].to_numpy()\n",
    "        full_data.loc[indx,variable]=val_moyenne[0]"
   ]
  },
  {
   "cell_type": "code",
   "execution_count": 88,
   "id": "3947aedd-b6dd-472a-8adb-c9280916699e",
   "metadata": {
    "tags": []
   },
   "outputs": [],
   "source": [
    "# Fonction qui met à jour le tableau des moyennes mensuelles, ce tableau sert à la fin à combler les derniers nan des villes\n",
    "def Maj_TblMoy(tab_moy,variable):\n",
    "    for index_val, row in tab_moy.iterrows():\n",
    "        ville_ref = dict_villes[row['Location']]\n",
    "        if ville_ref =='isole':\n",
    "            cond=(full_data['Location']==row['Location'])\n",
    "        else:\n",
    "            cond=(full_data['Location']==ville_ref)\n",
    "        y=full_data[cond & (full_data['year']==row['year'])][variable].mode()\n",
    "        if (y.empty):\n",
    "            Mode_An=full_data[cond][variable].mode()[0]\n",
    "        else:\n",
    "            Mode_An=y[0]\n",
    "        tbl_moy.loc[index_val,variable]=Mode_An"
   ]
  },
  {
   "cell_type": "code",
   "execution_count": 89,
   "id": "bde4d110-6da3-4f24-82fb-7f9bc31e7627",
   "metadata": {},
   "outputs": [],
   "source": [
    "# Récupère dans un DF toutes les lignes qui ont des valeurs Nan pour la variable passée en paramètre\n",
    "def VisionNull(variable):\n",
    "    df2 = full_data[full_data[variable].isnull()][['Location','year','month','day']]\n",
    "    return df2.sort_values(by=['Location','year','month','day'])"
   ]
  },
  {
   "cell_type": "code",
   "execution_count": 90,
   "id": "b4ecaef2-9194-4a32-aa04-90d16d3d825d",
   "metadata": {},
   "outputs": [],
   "source": [
    "#Pour les valeurs nulles importantes on traite par paquet, cette fonction appelle la fonction qui met à jour les données par jour/mois/année en fonction de la ville de réference ou par le mode si données incomplètes\n",
    "#V2\n",
    "def TraitePaquets(tab_var,variable):\n",
    "    i=0      \n",
    "    for indx,ville in tab_var.iterrows():\n",
    "        V1=ville['Location']\n",
    "        V2=dict_villes[V1]\n",
    "        if V2=='isole':\n",
    "            retour=FindValByMode(V1,variable,ville['year'],ville['month'])\n",
    "        else:\n",
    "            retour=FindValVilleRef(V2,variable,ville['year'],ville['month'],ville['day'])\n",
    "            if pd.isnull(retour): \n",
    "                retour=FindValByMode(V2,variable,ville['year'],ville['month'])\n",
    "         \n",
    "        full_data.loc[indx,variable]=retour\n",
    "        i+=1\n",
    "    return \"Fin\", i, 'lignes traitées'"
   ]
  },
  {
   "cell_type": "code",
   "execution_count": 91,
   "id": "4ad6ac7b-da77-4375-ac40-5cf834f304f6",
   "metadata": {},
   "outputs": [],
   "source": [
    "# Fonction qui cherche la valeur de la variable passée en paramètre pour l'année/le mois/le jour\n",
    "#V2\n",
    "def FindValVilleRef(ville,variable,year,month,day):\n",
    "    cond=((full_data['Location']==ville) & (full_data['year']==year) & (full_data['month']==month) & (full_data['day']==day))\n",
    "    x=full_data[cond][variable].index\n",
    "    if x.empty:\n",
    "        return np.nan\n",
    "    else:\n",
    "    #index compris entre (x>=0) & (x <= TAILLE):\n",
    "        return full_data[cond][variable].to_numpy()[0]"
   ]
  },
  {
   "cell_type": "code",
   "execution_count": 19,
   "id": "e0351681-7e9b-45fe-a467-86c13d792070",
   "metadata": {},
   "outputs": [],
   "source": [
    "def TraiteWindGustDirFinal(tab_var,variable):\n",
    "    i=0      \n",
    "    for indx,ville in tab_var.iterrows():\n",
    "        V1=ville['Location']\n",
    "        V2=dict_villes[V1]\n",
    "        full_data.loc[indx,variable]=FindValByMode(V1,variable,ville['year'],ville['month'])\n",
    "        i+=1\n",
    "    return \"Fin\", i, 'lignes traitées'"
   ]
  },
  {
   "cell_type": "code",
   "execution_count": 92,
   "id": "8dc0534b-b23a-4580-b4e6-a95bfe088202",
   "metadata": {
    "tags": []
   },
   "outputs": [
    {
     "data": {
      "text/plain": [
       "('Fin', 61958, 'lignes traitées')"
      ]
     },
     "execution_count": 92,
     "metadata": {},
     "output_type": "execute_result"
    }
   ],
   "source": [
    "tbl_val=VisionNull('Sunshine')\n",
    "TraitePaquets(tbl_val,'Sunshine')"
   ]
  },
  {
   "cell_type": "code",
   "execution_count": 102,
   "id": "dddfa416-3b90-498e-8266-280f70d8518e",
   "metadata": {
    "tags": []
   },
   "outputs": [
    {
     "data": {
      "text/plain": [
       "('Fin', 56442, 'lignes traitées')"
      ]
     },
     "execution_count": 102,
     "metadata": {},
     "output_type": "execute_result"
    }
   ],
   "source": [
    "tbl_val=VisionNull('Evaporation')\n",
    "TraitePaquets(tbl_val,'Evaporation')"
   ]
  },
  {
   "cell_type": "code",
   "execution_count": 93,
   "id": "53735b4a-6eed-4a43-ac74-15bacd9ce062",
   "metadata": {
    "tags": []
   },
   "outputs": [
    {
     "data": {
      "text/plain": [
       "('Fin', 12506, 'lignes traitées')"
      ]
     },
     "execution_count": 93,
     "metadata": {},
     "output_type": "execute_result"
    }
   ],
   "source": [
    "tbl_val=VisionNull('Pressure9am')\n",
    "TraitePaquets(tbl_val,'Pressure9am')"
   ]
  },
  {
   "cell_type": "code",
   "execution_count": 101,
   "id": "ebc39cd4-ac14-4a0d-aee1-d394bdb2d94e",
   "metadata": {
    "tags": []
   },
   "outputs": [
    {
     "data": {
      "text/plain": [
       "('Fin', 12529, 'lignes traitées')"
      ]
     },
     "execution_count": 101,
     "metadata": {},
     "output_type": "execute_result"
    }
   ],
   "source": [
    "tbl_val=VisionNull('Pressure3pm')\n",
    "TraitePaquets(tbl_val,'Pressure3pm')"
   ]
  },
  {
   "cell_type": "code",
   "execution_count": 94,
   "id": "916b59f9-3e49-45b7-bd05-11d0760a3ab7",
   "metadata": {
    "tags": []
   },
   "outputs": [
    {
     "data": {
      "text/plain": [
       "('Fin', 431, 'lignes traitées')"
      ]
     },
     "execution_count": 94,
     "metadata": {},
     "output_type": "execute_result"
    }
   ],
   "source": [
    "tbl_val=VisionNull('MinTemp')\n",
    "TraitePaquets(tbl_val,'MinTemp')"
   ]
  },
  {
   "cell_type": "code",
   "execution_count": 95,
   "id": "ab8fa800-2361-4c6c-94a7-28416892bece",
   "metadata": {
    "tags": []
   },
   "outputs": [
    {
     "data": {
      "text/plain": [
       "('Fin', 279, 'lignes traitées')"
      ]
     },
     "execution_count": 95,
     "metadata": {},
     "output_type": "execute_result"
    }
   ],
   "source": [
    "tbl_val=VisionNull('MaxTemp')\n",
    "TraitePaquets(tbl_val,'MaxTemp')"
   ]
  },
  {
   "cell_type": "code",
   "execution_count": 96,
   "id": "e0b0ef7f-7231-4562-8830-9ec56d301e9e",
   "metadata": {
    "tags": []
   },
   "outputs": [
    {
     "data": {
      "text/plain": [
       "('Fin', 0, 'lignes traitées')"
      ]
     },
     "execution_count": 96,
     "metadata": {},
     "output_type": "execute_result"
    }
   ],
   "source": [
    "tbl_val=VisionNull('Rainfall')\n",
    "TraitePaquets(tbl_val,'Rainfall')"
   ]
  },
  {
   "cell_type": "code",
   "execution_count": 97,
   "id": "3300a3eb-3e3c-4576-b839-d65066323b27",
   "metadata": {
    "tags": []
   },
   "outputs": [
    {
     "data": {
      "text/plain": [
       "('Fin', 1428, 'lignes traitées')"
      ]
     },
     "execution_count": 97,
     "metadata": {},
     "output_type": "execute_result"
    }
   ],
   "source": [
    "tbl_val=VisionNull('Humidity9am')\n",
    "TraitePaquets(tbl_val,'Humidity9am')"
   ]
  },
  {
   "cell_type": "code",
   "execution_count": 98,
   "id": "d7a134b9-c449-4545-a3fd-ba4cf186099a",
   "metadata": {
    "tags": []
   },
   "outputs": [
    {
     "data": {
      "text/plain": [
       "('Fin', 2661, 'lignes traitées')"
      ]
     },
     "execution_count": 98,
     "metadata": {},
     "output_type": "execute_result"
    }
   ],
   "source": [
    "tbl_val=VisionNull('Humidity3pm')\n",
    "TraitePaquets(tbl_val,'Humidity3pm')"
   ]
  },
  {
   "cell_type": "code",
   "execution_count": 99,
   "id": "9196814b-cfe9-4597-8506-1562faed79a6",
   "metadata": {},
   "outputs": [
    {
     "data": {
      "text/plain": [
       "('Fin', 8604, 'lignes traitées')"
      ]
     },
     "execution_count": 99,
     "metadata": {},
     "output_type": "execute_result"
    }
   ],
   "source": [
    "tbl_val=VisionNull('WindGustSpeed')\n",
    "TraitePaquets(tbl_val,'WindGustSpeed')"
   ]
  },
  {
   "cell_type": "code",
   "execution_count": 100,
   "id": "3a9395c5-904e-4ce5-af9a-7f5ee39f0aa7",
   "metadata": {},
   "outputs": [
    {
     "data": {
      "text/plain": [
       "('Fin', 8660, 'lignes traitées')"
      ]
     },
     "execution_count": 100,
     "metadata": {},
     "output_type": "execute_result"
    }
   ],
   "source": [
    "tbl_val=VisionNull('WindGustDir')\n",
    "TraitePaquets(tbl_val,'WindGustDir')\n"
   ]
  },
  {
   "cell_type": "code",
   "execution_count": 103,
   "id": "4718740d-ec8e-47ff-b0b1-72d0e44488b4",
   "metadata": {},
   "outputs": [
    {
     "data": {
      "image/png": "[encoded data removed]",
      "text/plain": [
       "<Figure size 1440x360 with 3 Axes>"
      ]
     },
     "metadata": {
      "needs_background": "light"
     },
     "output_type": "display_data"
    }
   ],
   "source": [
    "msno.bar(full_data, figsize=(20,5), fontsize=12);"
   ]
  },
  {
   "cell_type": "code",
   "execution_count": 105,
   "id": "208c35c0-0730-4121-b393-370d9dbdb8ba",
   "metadata": {},
   "outputs": [
    {
     "data": {
      "text/plain": [
       "(4540, 14)"
      ]
     },
     "execution_count": 105,
     "metadata": {},
     "output_type": "execute_result"
    }
   ],
   "source": [
    "# Je construis le tableau des moyennes mensuelles pour chaque ville / année / mois afin de combler les derniers nan de full_data\n",
    "tbl_moy=full_data.groupby(['Location','year','month'],as_index=False).mean()\n",
    "tbl_moy.shape"
   ]
  },
  {
   "cell_type": "code",
   "execution_count": 106,
   "id": "bf44ef40-500e-4578-9bd8-73e2ac9b9714",
   "metadata": {},
   "outputs": [
    {
     "data": {
      "text/plain": [
       "Location          0\n",
       "year              0\n",
       "month             0\n",
       "MinTemp           0\n",
       "MaxTemp           0\n",
       "Rainfall          0\n",
       "Evaporation      34\n",
       "Sunshine         63\n",
       "WindGustSpeed     0\n",
       "Humidity9am       0\n",
       "Humidity3pm       0\n",
       "Pressure9am       0\n",
       "Pressure3pm       0\n",
       "day               0\n",
       "dtype: int64"
      ]
     },
     "execution_count": 106,
     "metadata": {},
     "output_type": "execute_result"
    }
   ],
   "source": [
    "tbl_moy.isnull().sum()"
   ]
  },
  {
   "cell_type": "code",
   "execution_count": 113,
   "id": "bfa381ed-2c6c-4e17-830e-af96427d1ec1",
   "metadata": {},
   "outputs": [],
   "source": [
    "tab_moy=tbl_moy[tbl_moy['Evaporation'].isnull()][['Location','year']]\n",
    "tab_moy=tab_moy.sort_values(by=['Location','year'])\n",
    "Maj_TblMoy(tbl_moy,'Evaporation')"
   ]
  },
  {
   "cell_type": "code",
   "execution_count": 114,
   "id": "4c6b5a28-71cb-46eb-9b96-cb60e32e05bf",
   "metadata": {},
   "outputs": [],
   "source": [
    "tab_moy=tbl_moy[tbl_moy['Sunshine'].isnull()][['Location','year']]\n",
    "tab_moy=tab_moy.sort_values(by=['Location','year'])\n",
    "Maj_TblMoy(tbl_moy,'Sunshine')"
   ]
  },
  {
   "cell_type": "code",
   "execution_count": 115,
   "id": "43f81d43-94b6-430c-ab0d-bc5b4f1214d5",
   "metadata": {},
   "outputs": [
    {
     "data": {
      "text/plain": [
       "Location         0\n",
       "year             0\n",
       "month            0\n",
       "MinTemp          0\n",
       "MaxTemp          0\n",
       "Rainfall         0\n",
       "Evaporation      0\n",
       "Sunshine         0\n",
       "WindGustSpeed    0\n",
       "Humidity9am      0\n",
       "Humidity3pm      0\n",
       "Pressure9am      0\n",
       "Pressure3pm      0\n",
       "day              0\n",
       "dtype: int64"
      ]
     },
     "execution_count": 115,
     "metadata": {},
     "output_type": "execute_result"
    }
   ],
   "source": [
    "tbl_moy.isnull().sum()"
   ]
  },
  {
   "cell_type": "code",
   "execution_count": 116,
   "id": "a395296e-95ae-494c-b061-fa42c1e247a9",
   "metadata": {},
   "outputs": [
    {
     "data": {
      "text/plain": [
       "Date                0\n",
       "Location            0\n",
       "MinTemp             0\n",
       "MaxTemp             0\n",
       "Rainfall            0\n",
       "Evaporation       990\n",
       "Sunshine         1789\n",
       "WindGustDir         0\n",
       "WindGustSpeed       1\n",
       "Humidity9am         0\n",
       "Humidity3pm         0\n",
       "Pressure9am         0\n",
       "Pressure3pm         0\n",
       "RainToday           0\n",
       "RainTomorrow        0\n",
       "year                0\n",
       "month               0\n",
       "day                 0\n",
       "dtype: int64"
      ]
     },
     "execution_count": 116,
     "metadata": {},
     "output_type": "execute_result"
    }
   ],
   "source": [
    "full_data.isnull().sum()"
   ]
  },
  {
   "cell_type": "code",
   "execution_count": 117,
   "id": "dc9628f7-cbcd-4a7b-93a7-df64bf29b37a",
   "metadata": {},
   "outputs": [],
   "source": [
    "#Mise à jour des derniers nan par tblmoy\n",
    "tbl_val=VisionNull('Evaporation')\n",
    "MajVariableParTblMoy(tbl_val,'Evaporation')"
   ]
  },
  {
   "cell_type": "code",
   "execution_count": 118,
   "id": "d9d4b640-18e6-4e3f-b2ee-281f22cae42b",
   "metadata": {},
   "outputs": [],
   "source": [
    "#Mise à jour des derniers nan par tblmoy\n",
    "tbl_val=VisionNull('Sunshine')\n",
    "MajVariableParTblMoy(tbl_val,'Sunshine')"
   ]
  },
  {
   "cell_type": "code",
   "execution_count": 119,
   "id": "77b0ac6f-3cdf-44b7-ab6d-a020a967b2a1",
   "metadata": {},
   "outputs": [
    {
     "data": {
      "text/plain": [
       "('Fin', 0, 'lignes traitées')"
      ]
     },
     "execution_count": 119,
     "metadata": {},
     "output_type": "execute_result"
    }
   ],
   "source": [
    "#Traitement derniers nan\n",
    "tbl_val=VisionNull('WindGustDir')\n",
    "TraiteWindGustDirFinal(tbl_val,'WindGustDir')"
   ]
  },
  {
   "cell_type": "code",
   "execution_count": 121,
   "id": "2b21b032-6a11-4eeb-911c-5670338f1c8c",
   "metadata": {},
   "outputs": [
    {
     "data": {
      "text/plain": [
       "('Fin', 1, 'lignes traitées')"
      ]
     },
     "execution_count": 121,
     "metadata": {},
     "output_type": "execute_result"
    }
   ],
   "source": [
    "tbl_val=VisionNull('WindGustSpeed')\n",
    "TraiteWindGustDirFinal(tbl_val,'WindGustSpeed')"
   ]
  },
  {
   "cell_type": "code",
   "execution_count": 122,
   "id": "8b086bdb-4ff3-44a6-b7d7-b9789b2196ad",
   "metadata": {},
   "outputs": [
    {
     "data": {
      "text/plain": [
       "Date             0\n",
       "Location         0\n",
       "MinTemp          0\n",
       "MaxTemp          0\n",
       "Rainfall         0\n",
       "Evaporation      0\n",
       "Sunshine         0\n",
       "WindGustDir      0\n",
       "WindGustSpeed    0\n",
       "Humidity9am      0\n",
       "Humidity3pm      0\n",
       "Pressure9am      0\n",
       "Pressure3pm      0\n",
       "RainToday        0\n",
       "RainTomorrow     0\n",
       "year             0\n",
       "month            0\n",
       "day              0\n",
       "dtype: int64"
      ]
     },
     "execution_count": 122,
     "metadata": {},
     "output_type": "execute_result"
    }
   ],
   "source": [
    "full_data.isnull().sum()"
   ]
  },
  {
   "cell_type": "code",
   "execution_count": 123,
   "id": "139c2db3-3c2c-4183-b0f1-77b64110a6c2",
   "metadata": {},
   "outputs": [
    {
     "data": {
      "image/png": "[encoded data removed]",
      "text/plain": [
       "<Figure size 1440x360 with 3 Axes>"
      ]
     },
     "metadata": {
      "needs_background": "light"
     },
     "output_type": "display_data"
    }
   ],
   "source": [
    "# Graphique Missingno pour évaluer les données manquantes après traitement\n",
    "msno.bar(full_data, figsize=(20,5), fontsize=12);"
   ]
  },
  {
   "cell_type": "code",
   "execution_count": 999,
   "id": "65f8fad7-67f6-45d9-a232-5ea09fa10e93",
   "metadata": {},
   "outputs": [],
   "source": [
    "#Export du fichier\n",
    "full_data.to_csv('WeatherAUSFinal.csv',sep=';',index=False)"
   ]
  },
  {
   "cell_type": "code",
   "execution_count": null,
   "id": "a1179691-51b1-4e36-b017-155a98cfc709",
   "metadata": {},
   "outputs": [],
   "source": [
    "#====== Ajouter région et radar dans le dataset ======================================="
   ]
  },
  {
   "cell_type": "code",
   "execution_count": 36,
   "id": "7cafcb35-5482-44da-bd31-d83c10afc60e",
   "metadata": {},
   "outputs": [],
   "source": [
    "full_data=pd.read_csv(\"WeatherAUSFinal.csv\",sep=\";\")"
   ]
  },
  {
   "cell_type": "code",
   "execution_count": 38,
   "id": "cb2fd1b5-836c-480f-a2eb-2af383f2759f",
   "metadata": {
    "collapsed": true,
    "jupyter": {
     "outputs_hidden": true
    },
    "tags": []
   },
   "outputs": [
    {
     "data": {
      "text/html": [
       "<div>\n",
       "<style scoped>\n",
       "    .dataframe tbody tr th:only-of-type {\n",
       "        vertical-align: middle;\n",
       "    }\n",
       "\n",
       "    .dataframe tbody tr th {\n",
       "        vertical-align: top;\n",
       "    }\n",
       "\n",
       "    .dataframe thead th {\n",
       "        text-align: right;\n",
       "    }\n",
       "</style>\n",
       "<table border=\"1\" class=\"dataframe\">\n",
       "  <thead>\n",
       "    <tr style=\"text-align: right;\">\n",
       "      <th></th>\n",
       "      <th>Ville</th>\n",
       "      <th>Region</th>\n",
       "    </tr>\n",
       "  </thead>\n",
       "  <tbody>\n",
       "    <tr>\n",
       "      <th>0</th>\n",
       "      <td>Adelaide</td>\n",
       "      <td>South Australia</td>\n",
       "    </tr>\n",
       "    <tr>\n",
       "      <th>1</th>\n",
       "      <td>MountGambier</td>\n",
       "      <td>South Australia</td>\n",
       "    </tr>\n",
       "    <tr>\n",
       "      <th>2</th>\n",
       "      <td>Nuriootpa</td>\n",
       "      <td>South Australia</td>\n",
       "    </tr>\n",
       "    <tr>\n",
       "      <th>3</th>\n",
       "      <td>Richmond</td>\n",
       "      <td>Tasmania</td>\n",
       "    </tr>\n",
       "    <tr>\n",
       "      <th>4</th>\n",
       "      <td>woomera</td>\n",
       "      <td>South Australia</td>\n",
       "    </tr>\n",
       "    <tr>\n",
       "      <th>5</th>\n",
       "      <td>Brisbane</td>\n",
       "      <td>Queensland</td>\n",
       "    </tr>\n",
       "    <tr>\n",
       "      <th>6</th>\n",
       "      <td>Cairns</td>\n",
       "      <td>Queensland</td>\n",
       "    </tr>\n",
       "    <tr>\n",
       "      <th>7</th>\n",
       "      <td>CoffsHarbour</td>\n",
       "      <td>New South Wales</td>\n",
       "    </tr>\n",
       "    <tr>\n",
       "      <th>8</th>\n",
       "      <td>GoldCoast</td>\n",
       "      <td>Queensland</td>\n",
       "    </tr>\n",
       "    <tr>\n",
       "      <th>9</th>\n",
       "      <td>Townsville</td>\n",
       "      <td>Queensland</td>\n",
       "    </tr>\n",
       "    <tr>\n",
       "      <th>10</th>\n",
       "      <td>Albury</td>\n",
       "      <td>New South Wales</td>\n",
       "    </tr>\n",
       "    <tr>\n",
       "      <th>11</th>\n",
       "      <td>MountGinini</td>\n",
       "      <td>New South Wales</td>\n",
       "    </tr>\n",
       "    <tr>\n",
       "      <th>12</th>\n",
       "      <td>PearceRAAF</td>\n",
       "      <td>Western Australia</td>\n",
       "    </tr>\n",
       "    <tr>\n",
       "      <th>13</th>\n",
       "      <td>Tuggeranong</td>\n",
       "      <td>New South Wales</td>\n",
       "    </tr>\n",
       "    <tr>\n",
       "      <th>14</th>\n",
       "      <td>Darwin</td>\n",
       "      <td>Northern Territory</td>\n",
       "    </tr>\n",
       "    <tr>\n",
       "      <th>15</th>\n",
       "      <td>Katherine</td>\n",
       "      <td>Northern Territory</td>\n",
       "    </tr>\n",
       "    <tr>\n",
       "      <th>16</th>\n",
       "      <td>Ballarat</td>\n",
       "      <td>Victoria</td>\n",
       "    </tr>\n",
       "    <tr>\n",
       "      <th>17</th>\n",
       "      <td>Bendigo</td>\n",
       "      <td>Victoria</td>\n",
       "    </tr>\n",
       "    <tr>\n",
       "      <th>18</th>\n",
       "      <td>Dartmoor</td>\n",
       "      <td>Victoria</td>\n",
       "    </tr>\n",
       "    <tr>\n",
       "      <th>19</th>\n",
       "      <td>Melbourne</td>\n",
       "      <td>Victoria</td>\n",
       "    </tr>\n",
       "    <tr>\n",
       "      <th>20</th>\n",
       "      <td>Portland</td>\n",
       "      <td>Victoria</td>\n",
       "    </tr>\n",
       "    <tr>\n",
       "      <th>21</th>\n",
       "      <td>Sydney</td>\n",
       "      <td>New South Wales</td>\n",
       "    </tr>\n",
       "    <tr>\n",
       "      <th>22</th>\n",
       "      <td>Watsonia</td>\n",
       "      <td>Victoria</td>\n",
       "    </tr>\n",
       "    <tr>\n",
       "      <th>23</th>\n",
       "      <td>Williamtown</td>\n",
       "      <td>New South Wales</td>\n",
       "    </tr>\n",
       "    <tr>\n",
       "      <th>24</th>\n",
       "      <td>Hobart</td>\n",
       "      <td>Tasmania</td>\n",
       "    </tr>\n",
       "    <tr>\n",
       "      <th>25</th>\n",
       "      <td>Launceston</td>\n",
       "      <td>Tasmania</td>\n",
       "    </tr>\n",
       "    <tr>\n",
       "      <th>26</th>\n",
       "      <td>Albany</td>\n",
       "      <td>Western Australia</td>\n",
       "    </tr>\n",
       "    <tr>\n",
       "      <th>27</th>\n",
       "      <td>Dartmoor</td>\n",
       "      <td>Western Australia</td>\n",
       "    </tr>\n",
       "    <tr>\n",
       "      <th>28</th>\n",
       "      <td>Perth</td>\n",
       "      <td>Western Australia</td>\n",
       "    </tr>\n",
       "    <tr>\n",
       "      <th>29</th>\n",
       "      <td>PerthAirport</td>\n",
       "      <td>Western Australia</td>\n",
       "    </tr>\n",
       "    <tr>\n",
       "      <th>30</th>\n",
       "      <td>SalmonGums</td>\n",
       "      <td>Western Australia</td>\n",
       "    </tr>\n",
       "    <tr>\n",
       "      <th>31</th>\n",
       "      <td>Walpole</td>\n",
       "      <td>Western Australia</td>\n",
       "    </tr>\n",
       "    <tr>\n",
       "      <th>32</th>\n",
       "      <td>Witchcliffe</td>\n",
       "      <td>Western Australia</td>\n",
       "    </tr>\n",
       "    <tr>\n",
       "      <th>33</th>\n",
       "      <td>BadgerysCreek</td>\n",
       "      <td>New South Wales</td>\n",
       "    </tr>\n",
       "    <tr>\n",
       "      <th>34</th>\n",
       "      <td>Canberra</td>\n",
       "      <td>New South Wales</td>\n",
       "    </tr>\n",
       "    <tr>\n",
       "      <th>35</th>\n",
       "      <td>Cobar</td>\n",
       "      <td>New South Wales</td>\n",
       "    </tr>\n",
       "    <tr>\n",
       "      <th>36</th>\n",
       "      <td>Mildura</td>\n",
       "      <td>Victoria</td>\n",
       "    </tr>\n",
       "    <tr>\n",
       "      <th>37</th>\n",
       "      <td>Moree</td>\n",
       "      <td>New South Wales</td>\n",
       "    </tr>\n",
       "    <tr>\n",
       "      <th>38</th>\n",
       "      <td>Newcastle</td>\n",
       "      <td>New South Wales</td>\n",
       "    </tr>\n",
       "    <tr>\n",
       "      <th>39</th>\n",
       "      <td>NorahHead</td>\n",
       "      <td>New South Wales</td>\n",
       "    </tr>\n",
       "    <tr>\n",
       "      <th>40</th>\n",
       "      <td>NorfolkIsland</td>\n",
       "      <td>New South Wales</td>\n",
       "    </tr>\n",
       "    <tr>\n",
       "      <th>41</th>\n",
       "      <td>Penrith</td>\n",
       "      <td>New South Wales</td>\n",
       "    </tr>\n",
       "    <tr>\n",
       "      <th>42</th>\n",
       "      <td>Sale</td>\n",
       "      <td>Victoria</td>\n",
       "    </tr>\n",
       "    <tr>\n",
       "      <th>43</th>\n",
       "      <td>SydneyAirport</td>\n",
       "      <td>New South Wales</td>\n",
       "    </tr>\n",
       "    <tr>\n",
       "      <th>44</th>\n",
       "      <td>WaggaWagga</td>\n",
       "      <td>New South Wales</td>\n",
       "    </tr>\n",
       "    <tr>\n",
       "      <th>45</th>\n",
       "      <td>Wollongong</td>\n",
       "      <td>New South Wales</td>\n",
       "    </tr>\n",
       "  </tbody>\n",
       "</table>\n",
       "</div>"
      ],
      "text/plain": [
       "            Ville              Region\n",
       "0        Adelaide     South Australia\n",
       "1    MountGambier     South Australia\n",
       "2       Nuriootpa     South Australia\n",
       "3        Richmond            Tasmania\n",
       "4         woomera     South Australia\n",
       "5        Brisbane          Queensland\n",
       "6          Cairns          Queensland\n",
       "7    CoffsHarbour     New South Wales\n",
       "8       GoldCoast          Queensland\n",
       "9      Townsville          Queensland\n",
       "10         Albury     New South Wales\n",
       "11    MountGinini     New South Wales\n",
       "12     PearceRAAF   Western Australia\n",
       "13    Tuggeranong     New South Wales\n",
       "14         Darwin  Northern Territory\n",
       "15      Katherine  Northern Territory\n",
       "16       Ballarat            Victoria\n",
       "17        Bendigo            Victoria\n",
       "18       Dartmoor            Victoria\n",
       "19      Melbourne            Victoria\n",
       "20       Portland            Victoria\n",
       "21         Sydney     New South Wales\n",
       "22       Watsonia            Victoria\n",
       "23    Williamtown     New South Wales\n",
       "24         Hobart            Tasmania\n",
       "25     Launceston            Tasmania\n",
       "26         Albany   Western Australia\n",
       "27       Dartmoor   Western Australia\n",
       "28          Perth   Western Australia\n",
       "29   PerthAirport   Western Australia\n",
       "30     SalmonGums   Western Australia\n",
       "31        Walpole   Western Australia\n",
       "32    Witchcliffe   Western Australia\n",
       "33  BadgerysCreek     New South Wales\n",
       "34       Canberra     New South Wales\n",
       "35          Cobar     New South Wales\n",
       "36        Mildura            Victoria\n",
       "37          Moree     New South Wales\n",
       "38      Newcastle     New South Wales\n",
       "39      NorahHead     New South Wales\n",
       "40  NorfolkIsland     New South Wales\n",
       "41        Penrith     New South Wales\n",
       "42           Sale            Victoria\n",
       "43  SydneyAirport     New South Wales\n",
       "44     WaggaWagga     New South Wales\n",
       "45     Wollongong     New South Wales"
      ]
     },
     "execution_count": 38,
     "metadata": {},
     "output_type": "execute_result"
    }
   ],
   "source": [
    "villesregion=pd.read_csv(\"VillesRegion.csv\",sep=\";\")\n",
    "villesregion"
   ]
  },
  {
   "cell_type": "code",
   "execution_count": 40,
   "id": "6aa57dd1-9475-4212-9be0-24609a4ab2a3",
   "metadata": {
    "tags": []
   },
   "outputs": [],
   "source": [
    "villesradarregion=pd.merge(villesref, villesregion, left_on='Ville', right_on='Ville', how='inner') \n"
   ]
  },
  {
   "cell_type": "code",
   "execution_count": 29,
   "id": "de97134f-3946-495b-9c32-6bfe9a78d11e",
   "metadata": {},
   "outputs": [],
   "source": [
    "dict_regions={}\n",
    "for idx_ville,ligne in villesregion.iterrows():\n",
    "    dict_villes[ligne['Ville']] = ligne['Region']\n",
    "    "
   ]
  },
  {
   "cell_type": "code",
   "execution_count": 41,
   "id": "3bf4c6e2-cfd6-432a-a489-69813095e595",
   "metadata": {
    "tags": []
   },
   "outputs": [],
   "source": [
    "new_data=pd.merge(full_data, villesradarregion, left_on='Location', right_on='Ville', how='inner') \n",
    "new_data=new_data.drop('Ville',axis=1)"
   ]
  },
  {
   "cell_type": "code",
   "execution_count": 42,
   "id": "55ab2aeb-c56d-41a6-b5e6-62db7489afb4",
   "metadata": {},
   "outputs": [
    {
     "data": {
      "text/html": [
       "<div>\n",
       "<style scoped>\n",
       "    .dataframe tbody tr th:only-of-type {\n",
       "        vertical-align: middle;\n",
       "    }\n",
       "\n",
       "    .dataframe tbody tr th {\n",
       "        vertical-align: top;\n",
       "    }\n",
       "\n",
       "    .dataframe thead th {\n",
       "        text-align: right;\n",
       "    }\n",
       "</style>\n",
       "<table border=\"1\" class=\"dataframe\">\n",
       "  <thead>\n",
       "    <tr style=\"text-align: right;\">\n",
       "      <th></th>\n",
       "      <th>Date</th>\n",
       "      <th>Location</th>\n",
       "      <th>MinTemp</th>\n",
       "      <th>MaxTemp</th>\n",
       "      <th>Rainfall</th>\n",
       "      <th>Evaporation</th>\n",
       "      <th>Sunshine</th>\n",
       "      <th>WindGustDir</th>\n",
       "      <th>WindGustSpeed</th>\n",
       "      <th>Humidity9am</th>\n",
       "      <th>...</th>\n",
       "      <th>Pressure9am</th>\n",
       "      <th>Pressure3pm</th>\n",
       "      <th>RainToday</th>\n",
       "      <th>RainTomorrow</th>\n",
       "      <th>year</th>\n",
       "      <th>month</th>\n",
       "      <th>day</th>\n",
       "      <th>week</th>\n",
       "      <th>Radar</th>\n",
       "      <th>Region</th>\n",
       "    </tr>\n",
       "  </thead>\n",
       "  <tbody>\n",
       "    <tr>\n",
       "      <th>0</th>\n",
       "      <td>2009-01-01</td>\n",
       "      <td>Albury</td>\n",
       "      <td>11.3</td>\n",
       "      <td>26.5</td>\n",
       "      <td>0.0</td>\n",
       "      <td>9.8</td>\n",
       "      <td>12.9</td>\n",
       "      <td>WNW</td>\n",
       "      <td>56.0</td>\n",
       "      <td>46.0</td>\n",
       "      <td>...</td>\n",
       "      <td>1004.5</td>\n",
       "      <td>1003.2</td>\n",
       "      <td>No</td>\n",
       "      <td>No</td>\n",
       "      <td>2009</td>\n",
       "      <td>1</td>\n",
       "      <td>1</td>\n",
       "      <td>1</td>\n",
       "      <td>SydneyAirport</td>\n",
       "      <td>New South Wales</td>\n",
       "    </tr>\n",
       "    <tr>\n",
       "      <th>1</th>\n",
       "      <td>2009-01-02</td>\n",
       "      <td>Albury</td>\n",
       "      <td>9.6</td>\n",
       "      <td>23.9</td>\n",
       "      <td>0.0</td>\n",
       "      <td>11.0</td>\n",
       "      <td>5.9</td>\n",
       "      <td>W</td>\n",
       "      <td>41.0</td>\n",
       "      <td>44.0</td>\n",
       "      <td>...</td>\n",
       "      <td>1014.4</td>\n",
       "      <td>1013.1</td>\n",
       "      <td>No</td>\n",
       "      <td>No</td>\n",
       "      <td>2009</td>\n",
       "      <td>1</td>\n",
       "      <td>2</td>\n",
       "      <td>1</td>\n",
       "      <td>SydneyAirport</td>\n",
       "      <td>New South Wales</td>\n",
       "    </tr>\n",
       "    <tr>\n",
       "      <th>2</th>\n",
       "      <td>2009-01-03</td>\n",
       "      <td>Albury</td>\n",
       "      <td>10.5</td>\n",
       "      <td>28.8</td>\n",
       "      <td>0.0</td>\n",
       "      <td>9.0</td>\n",
       "      <td>0.5</td>\n",
       "      <td>SSE</td>\n",
       "      <td>26.0</td>\n",
       "      <td>43.0</td>\n",
       "      <td>...</td>\n",
       "      <td>1018.7</td>\n",
       "      <td>1014.8</td>\n",
       "      <td>No</td>\n",
       "      <td>No</td>\n",
       "      <td>2009</td>\n",
       "      <td>1</td>\n",
       "      <td>3</td>\n",
       "      <td>1</td>\n",
       "      <td>SydneyAirport</td>\n",
       "      <td>New South Wales</td>\n",
       "    </tr>\n",
       "    <tr>\n",
       "      <th>3</th>\n",
       "      <td>2009-01-04</td>\n",
       "      <td>Albury</td>\n",
       "      <td>12.3</td>\n",
       "      <td>34.6</td>\n",
       "      <td>0.0</td>\n",
       "      <td>5.4</td>\n",
       "      <td>11.3</td>\n",
       "      <td>WNW</td>\n",
       "      <td>37.0</td>\n",
       "      <td>41.0</td>\n",
       "      <td>...</td>\n",
       "      <td>1015.1</td>\n",
       "      <td>1010.3</td>\n",
       "      <td>No</td>\n",
       "      <td>No</td>\n",
       "      <td>2009</td>\n",
       "      <td>1</td>\n",
       "      <td>4</td>\n",
       "      <td>1</td>\n",
       "      <td>SydneyAirport</td>\n",
       "      <td>New South Wales</td>\n",
       "    </tr>\n",
       "    <tr>\n",
       "      <th>4</th>\n",
       "      <td>2009-01-05</td>\n",
       "      <td>Albury</td>\n",
       "      <td>12.9</td>\n",
       "      <td>35.8</td>\n",
       "      <td>0.0</td>\n",
       "      <td>10.0</td>\n",
       "      <td>12.2</td>\n",
       "      <td>WNW</td>\n",
       "      <td>41.0</td>\n",
       "      <td>41.0</td>\n",
       "      <td>...</td>\n",
       "      <td>1012.6</td>\n",
       "      <td>1009.2</td>\n",
       "      <td>No</td>\n",
       "      <td>No</td>\n",
       "      <td>2009</td>\n",
       "      <td>1</td>\n",
       "      <td>5</td>\n",
       "      <td>2</td>\n",
       "      <td>SydneyAirport</td>\n",
       "      <td>New South Wales</td>\n",
       "    </tr>\n",
       "    <tr>\n",
       "      <th>...</th>\n",
       "      <td>...</td>\n",
       "      <td>...</td>\n",
       "      <td>...</td>\n",
       "      <td>...</td>\n",
       "      <td>...</td>\n",
       "      <td>...</td>\n",
       "      <td>...</td>\n",
       "      <td>...</td>\n",
       "      <td>...</td>\n",
       "      <td>...</td>\n",
       "      <td>...</td>\n",
       "      <td>...</td>\n",
       "      <td>...</td>\n",
       "      <td>...</td>\n",
       "      <td>...</td>\n",
       "      <td>...</td>\n",
       "      <td>...</td>\n",
       "      <td>...</td>\n",
       "      <td>...</td>\n",
       "      <td>...</td>\n",
       "      <td>...</td>\n",
       "    </tr>\n",
       "    <tr>\n",
       "      <th>124843</th>\n",
       "      <td>2017-06-20</td>\n",
       "      <td>Darwin</td>\n",
       "      <td>19.3</td>\n",
       "      <td>33.4</td>\n",
       "      <td>0.0</td>\n",
       "      <td>6.0</td>\n",
       "      <td>11.0</td>\n",
       "      <td>ENE</td>\n",
       "      <td>35.0</td>\n",
       "      <td>63.0</td>\n",
       "      <td>...</td>\n",
       "      <td>1013.9</td>\n",
       "      <td>1010.5</td>\n",
       "      <td>No</td>\n",
       "      <td>No</td>\n",
       "      <td>2017</td>\n",
       "      <td>6</td>\n",
       "      <td>20</td>\n",
       "      <td>25</td>\n",
       "      <td>isole</td>\n",
       "      <td>Northern Territory</td>\n",
       "    </tr>\n",
       "    <tr>\n",
       "      <th>124844</th>\n",
       "      <td>2017-06-21</td>\n",
       "      <td>Darwin</td>\n",
       "      <td>21.2</td>\n",
       "      <td>32.6</td>\n",
       "      <td>0.0</td>\n",
       "      <td>7.6</td>\n",
       "      <td>8.6</td>\n",
       "      <td>E</td>\n",
       "      <td>37.0</td>\n",
       "      <td>56.0</td>\n",
       "      <td>...</td>\n",
       "      <td>1014.6</td>\n",
       "      <td>1011.2</td>\n",
       "      <td>No</td>\n",
       "      <td>No</td>\n",
       "      <td>2017</td>\n",
       "      <td>6</td>\n",
       "      <td>21</td>\n",
       "      <td>25</td>\n",
       "      <td>isole</td>\n",
       "      <td>Northern Territory</td>\n",
       "    </tr>\n",
       "    <tr>\n",
       "      <th>124845</th>\n",
       "      <td>2017-06-22</td>\n",
       "      <td>Darwin</td>\n",
       "      <td>20.7</td>\n",
       "      <td>32.8</td>\n",
       "      <td>0.0</td>\n",
       "      <td>5.6</td>\n",
       "      <td>11.0</td>\n",
       "      <td>E</td>\n",
       "      <td>33.0</td>\n",
       "      <td>46.0</td>\n",
       "      <td>...</td>\n",
       "      <td>1015.3</td>\n",
       "      <td>1011.8</td>\n",
       "      <td>No</td>\n",
       "      <td>No</td>\n",
       "      <td>2017</td>\n",
       "      <td>6</td>\n",
       "      <td>22</td>\n",
       "      <td>25</td>\n",
       "      <td>isole</td>\n",
       "      <td>Northern Territory</td>\n",
       "    </tr>\n",
       "    <tr>\n",
       "      <th>124846</th>\n",
       "      <td>2017-06-23</td>\n",
       "      <td>Darwin</td>\n",
       "      <td>19.5</td>\n",
       "      <td>31.8</td>\n",
       "      <td>0.0</td>\n",
       "      <td>6.2</td>\n",
       "      <td>10.6</td>\n",
       "      <td>ESE</td>\n",
       "      <td>26.0</td>\n",
       "      <td>62.0</td>\n",
       "      <td>...</td>\n",
       "      <td>1014.9</td>\n",
       "      <td>1010.7</td>\n",
       "      <td>No</td>\n",
       "      <td>No</td>\n",
       "      <td>2017</td>\n",
       "      <td>6</td>\n",
       "      <td>23</td>\n",
       "      <td>25</td>\n",
       "      <td>isole</td>\n",
       "      <td>Northern Territory</td>\n",
       "    </tr>\n",
       "    <tr>\n",
       "      <th>124847</th>\n",
       "      <td>2017-06-24</td>\n",
       "      <td>Darwin</td>\n",
       "      <td>20.2</td>\n",
       "      <td>31.7</td>\n",
       "      <td>0.0</td>\n",
       "      <td>5.6</td>\n",
       "      <td>10.7</td>\n",
       "      <td>ENE</td>\n",
       "      <td>30.0</td>\n",
       "      <td>73.0</td>\n",
       "      <td>...</td>\n",
       "      <td>1013.9</td>\n",
       "      <td>1009.7</td>\n",
       "      <td>No</td>\n",
       "      <td>No</td>\n",
       "      <td>2017</td>\n",
       "      <td>6</td>\n",
       "      <td>24</td>\n",
       "      <td>25</td>\n",
       "      <td>isole</td>\n",
       "      <td>Northern Territory</td>\n",
       "    </tr>\n",
       "  </tbody>\n",
       "</table>\n",
       "<p>124848 rows × 21 columns</p>\n",
       "</div>"
      ],
      "text/plain": [
       "              Date Location  MinTemp  MaxTemp  Rainfall  Evaporation  \\\n",
       "0       2009-01-01   Albury     11.3     26.5       0.0          9.8   \n",
       "1       2009-01-02   Albury      9.6     23.9       0.0         11.0   \n",
       "2       2009-01-03   Albury     10.5     28.8       0.0          9.0   \n",
       "3       2009-01-04   Albury     12.3     34.6       0.0          5.4   \n",
       "4       2009-01-05   Albury     12.9     35.8       0.0         10.0   \n",
       "...            ...      ...      ...      ...       ...          ...   \n",
       "124843  2017-06-20   Darwin     19.3     33.4       0.0          6.0   \n",
       "124844  2017-06-21   Darwin     21.2     32.6       0.0          7.6   \n",
       "124845  2017-06-22   Darwin     20.7     32.8       0.0          5.6   \n",
       "124846  2017-06-23   Darwin     19.5     31.8       0.0          6.2   \n",
       "124847  2017-06-24   Darwin     20.2     31.7       0.0          5.6   \n",
       "\n",
       "        Sunshine WindGustDir  WindGustSpeed  Humidity9am  ...  Pressure9am  \\\n",
       "0           12.9         WNW           56.0         46.0  ...       1004.5   \n",
       "1            5.9           W           41.0         44.0  ...       1014.4   \n",
       "2            0.5         SSE           26.0         43.0  ...       1018.7   \n",
       "3           11.3         WNW           37.0         41.0  ...       1015.1   \n",
       "4           12.2         WNW           41.0         41.0  ...       1012.6   \n",
       "...          ...         ...            ...          ...  ...          ...   \n",
       "124843      11.0         ENE           35.0         63.0  ...       1013.9   \n",
       "124844       8.6           E           37.0         56.0  ...       1014.6   \n",
       "124845      11.0           E           33.0         46.0  ...       1015.3   \n",
       "124846      10.6         ESE           26.0         62.0  ...       1014.9   \n",
       "124847      10.7         ENE           30.0         73.0  ...       1013.9   \n",
       "\n",
       "        Pressure3pm  RainToday RainTomorrow  year  month  day  week  \\\n",
       "0            1003.2         No           No  2009      1    1     1   \n",
       "1            1013.1         No           No  2009      1    2     1   \n",
       "2            1014.8         No           No  2009      1    3     1   \n",
       "3            1010.3         No           No  2009      1    4     1   \n",
       "4            1009.2         No           No  2009      1    5     2   \n",
       "...             ...        ...          ...   ...    ...  ...   ...   \n",
       "124843       1010.5         No           No  2017      6   20    25   \n",
       "124844       1011.2         No           No  2017      6   21    25   \n",
       "124845       1011.8         No           No  2017      6   22    25   \n",
       "124846       1010.7         No           No  2017      6   23    25   \n",
       "124847       1009.7         No           No  2017      6   24    25   \n",
       "\n",
       "                Radar              Region  \n",
       "0       SydneyAirport     New South Wales  \n",
       "1       SydneyAirport     New South Wales  \n",
       "2       SydneyAirport     New South Wales  \n",
       "3       SydneyAirport     New South Wales  \n",
       "4       SydneyAirport     New South Wales  \n",
       "...               ...                 ...  \n",
       "124843          isole  Northern Territory  \n",
       "124844          isole  Northern Territory  \n",
       "124845          isole  Northern Territory  \n",
       "124846          isole  Northern Territory  \n",
       "124847          isole  Northern Territory  \n",
       "\n",
       "[124848 rows x 21 columns]"
      ]
     },
     "execution_count": 42,
     "metadata": {},
     "output_type": "execute_result"
    }
   ],
   "source": [
    "new_data"
   ]
  },
  {
   "cell_type": "code",
   "execution_count": 43,
   "id": "53e4f6e6-5ae4-45c3-a2c5-2f074b5bbf32",
   "metadata": {},
   "outputs": [],
   "source": [
    "new_data.to_csv('WeatherAUSRadarRegion.csv',sep=';',index=False)"
   ]
  },
  {
   "cell_type": "code",
   "execution_count": 8,
   "id": "784f0b67-dab2-482b-a2fe-1c2ad5f4ba02",
   "metadata": {},
   "outputs": [],
   "source": [
    "#Export par Region"
   ]
  },
  {
   "cell_type": "code",
   "execution_count": null,
   "id": "f9732c96-826e-4126-bea5-8f2b2474eea0",
   "metadata": {},
   "outputs": [],
   "source": [
    "data_region_NSW = new_data[new_data['Region']=='New South Wales']\n",
    "data_region_VIC = new_data[new_data['Region']=='Victoria']\n",
    "data_region_WEA = new_data[new_data['Region']=='Western Australia']\n",
    "data_region_SOA = new_data[new_data['Region']=='South Australia']\n",
    "data_region_TAS=new_data[new_data['Region']=='Tasmania']\n",
    "data_region_NIS = new_data[new_data['Location']=='NorfolkIsland']"
   ]
  },
  {
   "cell_type": "code",
   "execution_count": null,
   "id": "1ab27051-f9a4-417a-b724-635a85172e20",
   "metadata": {},
   "outputs": [],
   "source": [
    "data_region_NSW.to_csv('WeatherAUSRegionNSW.csv',sep=';',index=False)\n",
    "data_region_VIC.to_csv('WeatherAUSRegionVIC.csv',sep=';',index=False)\n",
    "data_region_WEA.to_csv('WeatherAUSRegionWEA.csv',sep=';',index=False)\n",
    "data_region_SOA.to_csv('WeatherAUSRegionSOA.csv',sep=';',index=False)\n",
    "data_region_TAS.to_csv('WeatherAUSRegionTAS.csv',sep=';',index=False)\n",
    "data_region_NIS.to_csv('WeatherAUSRegionNIS.csv',sep=';',index=False)"
   ]
  }
 ],
 "metadata": {
  "kernelspec": {
   "display_name": "Python 3 (ipykernel)",
   "language": "python",
   "name": "python3"
  },
  "language_info": {
   "codemirror_mode": {
    "name": "ipython",
    "version": 3
   },
   "file_extension": ".py",
   "mimetype": "text/x-python",
   "name": "python",
   "nbconvert_exporter": "python",
   "pygments_lexer": "ipython3",
   "version": "3.10.2"
  }
 },
 "nbformat": 4,
 "nbformat_minor": 5
}
